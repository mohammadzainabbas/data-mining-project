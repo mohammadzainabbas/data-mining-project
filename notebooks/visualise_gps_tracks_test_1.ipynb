{
 "cells": [
  {
   "cell_type": "code",
   "execution_count": null,
   "id": "f6b17bd9-c7d1-4c8e-82b7-9a20bbb0038a",
   "metadata": {},
   "outputs": [],
   "source": [
    "from os import getcwd\n",
    "from os.path import join, abspath, pardir\n",
    "from json import dump\n",
    "import geopandas as gp\n",
    "from shapely.geometry import LineString\n",
    "import pandas as pd\n",
    "import numpy as np\n",
    "from collections import namedtuple\n",
    "import matplotlib.pyplot as plt"
   ]
  },
  {
   "cell_type": "markdown",
   "id": "4245a014-56b4-4ab3-84db-b24b5ed92d98",
   "metadata": {},
   "source": [
    "##### Configs"
   ]
  },
  {
   "cell_type": "code",
   "execution_count": null,
   "id": "2883f6f7-34eb-47ac-b285-f194762d6c7f",
   "metadata": {},
   "outputs": [],
   "source": [
    "parent_dir = abspath(join(getcwd(), pardir))\n",
    "shape_files_dir = join(parent_dir, \"2109_STIB_MIVB_Network\")\n",
    "gps_files_dir = join(parent_dir, \"GPS\")\n",
    "line_shape_file = join(shape_files_dir, \"ACTU_LINES.shp\")\n",
    "stops_shape_file = join(shape_files_dir, \"ACTU_STOPS.shp\")"
   ]
  },
  {
   "cell_type": "markdown",
   "id": "b8060038-4a63-4781-a1cf-5cf06a40e48e",
   "metadata": {},
   "source": [
    "##### Load files"
   ]
  },
  {
   "cell_type": "code",
   "execution_count": null,
   "id": "36e813f5-4ab3-42aa-8da5-8f4488475cd2",
   "metadata": {},
   "outputs": [],
   "source": [
    "line_df = gp.read_file(line_shape_file)\n",
    "stops_df = gp.read_file(stops_shape_file)"
   ]
  },
  {
   "cell_type": "markdown",
   "id": "1e746c67-86a7-40a3-9b52-5dc15bdc1b66",
   "metadata": {},
   "source": [
    "##### Helper functions for prediction of mode transport"
   ]
  },
  {
   "cell_type": "code",
   "execution_count": null,
   "id": "f54e59ca-9256-49f7-957f-955bcd929f06",
   "metadata": {},
   "outputs": [],
   "source": [
    "def get_list_threshold(min=1, max=100):\n",
    "    return [x for x in range(int(min), int(max)) if all(x % t for t in range(2, x))]\n",
    "\n",
    "def get_spatial_join(df1, df2, threshold_list, column=None, **kwargs):\n",
    "    if not isinstance(df1, gp.GeoDataFrame): raise ValueError(\"Kindly, pass a valid geo pandas dataframe.\")\n",
    "    if not isinstance(df2, gp.GeoDataFrame): raise ValueError(\"Kindly, pass a valid geo pandas dataframe.\")\n",
    "    if (not isinstance(threshold_list, list)) or (not len(threshold_list)): raise ValueError(\"Kindly, pass a valid threshold list.\")\n",
    "    \n",
    "    # Make sure both geo-panda dataframes 'df1' & 'df2' have the same coordinate reference system (crs)\n",
    "    if df1.crs != df2.crs:\n",
    "        df1 = df1.to_crs(df2.crs)\n",
    "    \n",
    "    _threshold_ = float(0)\n",
    "    df = None\n",
    "    for threshold in threshold_list:\n",
    "        df = df2.sjoin_nearest(df1, max_distance=float(threshold), distance_col=\"distances\", **kwargs)\n",
    "        if not df.empty:\n",
    "            _threshold_ = threshold\n",
    "            break\n",
    "    if (column is None) or (column not in df.columns.to_list()):\n",
    "        return _threshold_, list()\n",
    "    else:\n",
    "        return _threshold_, list(df[column].unique())\n",
    "    \n",
    "def get_intersection(list_1, list_2):\n",
    "    if (not isinstance(list_1, list)) or (not isinstance(list_2, list)): raise ValueError(\"Kindly, pass a valid list for intersection.\")\n",
    "    \n",
    "    return list( set(list_1).intersection( set(list_2) ) )\n",
    "\n",
    "def plot_tracks(track_df, df, modes, col='LIGNE', title=str()):\n",
    "    fig, ax = plt.subplots(figsize=(15, 15))\n",
    "    track_df.to_crs(df.crs).plot(ax=ax, alpha=0.7, color=\"pink\")\n",
    "    line_df.loc[df[col].isin(modes)].plot(ax=ax)\n",
    "    fig.suptitle(title)\n",
    "    "
   ]
  },
  {
   "cell_type": "markdown",
   "id": "7bca759a-d5ff-403c-8ec4-d4b8e6ab78f4",
   "metadata": {},
   "source": [
    "##### Predict the mode of transport for each GPS track"
   ]
  },
  {
   "cell_type": "code",
   "execution_count": null,
   "id": "0432c015-544b-4385-a204-50b03e17bbd2",
   "metadata": {},
   "outputs": [],
   "source": [
    "def predict_transport_mode(gps_df, line_df, stops_df, detailed_analysis=False):\n",
    "    if not isinstance(gps_df, pd.DataFrame): raise ValueError(\"Kindly, pass the gps track(s) data as a pandas dataframe.\")\n",
    "    if not isinstance(stops_df, gp.GeoDataFrame): raise ValueError(\"Kindly, pass the stops data as a geo pandas dataframe.\")\n",
    "    if not isinstance(line_df, gp.GeoDataFrame): raise ValueError(\"Kindly, pass the stops data as a geo pandas dataframe.\")\n",
    "    \n",
    "    # Get list of all the tracks in the GPS data\n",
    "    tracks = list(gps_df['TrackId'].unique())\n",
    "    \n",
    "    # Max. threshold for max_dist (in meters)\n",
    "    max_dist_threshold = float(100)\n",
    "    \n",
    "    # List of thresholds for lines and stops\n",
    "    lines_max_dist_threshold = get_list_threshold(1, max_dist_threshold)\n",
    "    stops_max_dist_threshold = get_list_threshold(5, max_dist_threshold)\n",
    "    \n",
    "    # For result\n",
    "    result = namedtuple('Result', ['track_id', 'mode', 'modes'])\n",
    "    \n",
    "    # For each GPS track\n",
    "    for track in tracks:\n",
    "        \n",
    "        # 1. Get 'track' data from gps_df\n",
    "        track_df = gps_df.loc[gps_df['TrackId'].isin([track])]\n",
    "        \n",
    "        # 2. Convert into geo-pandas dataframe with coordinate reference system (crs) of '4326' (WGS 84)\n",
    "        track_df = gp.GeoDataFrame(track_df, geometry=gp.points_from_xy(track_df['lon'], track_df['lat']), crs=4326)\n",
    "        \n",
    "        # 3. Get spatial join with lines\n",
    "        line_max_dist_threshold, closest_lines = get_spatial_join(track_df, line_df, threshold_list=lines_max_dist_threshold, column=\"LIGNE\")\n",
    "\n",
    "        # 4. Get spatial join with stops\n",
    "        stop_max_dist_threshold, closest_stops = get_spatial_join(track_df, stops_df, threshold_list=stops_max_dist_threshold, column=\"Code_Ligne\")\n",
    "        \n",
    "        # 5. Get intersection of common modes\n",
    "        modes = get_intersection(closest_lines, closest_stops)\n",
    "        \n",
    "        # Sanity check (if no modes) -> probably the mode is \"others\"\n",
    "        if not len(modes):\n",
    "            result[track] = Result(track_id=track, mode=\"others\", modes=list())\n",
    "            continue\n",
    "        \n",
    "        # 6. For each transport mode, check how close is it to your track\n",
    "        # for mode in modes:\n",
    "        print(\"Track: {}\".format(track))\n",
    "        plot_tracks(track_df, line_df, modes, 'LIGNE', \"Track {}\".format(track))\n",
    "        # plot_tracks(track_df, stops_df, modes, 'Code_Ligne')\n",
    "\n",
    "            \n",
    "        # print(\"Track:\\t{}\\tmax_line:\\t{}\\tmax_stop:\\t{}\\tModes:\\t{}\".format(track, line_max_dist_threshold, stop_max_dist_threshold, modes))        "
   ]
  },
  {
   "cell_type": "code",
   "execution_count": null,
   "id": "557b2303-4f4d-404e-a218-7315e22d0a71",
   "metadata": {},
   "outputs": [],
   "source": [
    "predict_transport_mode(gps_df, line_df, stops_df)"
   ]
  },
  {
   "cell_type": "markdown",
   "id": "5d5940df-f9b5-4a43-917e-15d59d029f69",
   "metadata": {
    "tags": []
   },
   "source": [
    "##### Get the GPS Tracks"
   ]
  },
  {
   "cell_type": "code",
   "execution_count": 48,
   "id": "1c429edd-3877-4eb7-97fc-eaea1cb0886c",
   "metadata": {
    "tags": []
   },
   "outputs": [],
   "source": [
    "gps_df = pd.read_csv(join(gps_files_dir, \"GPStracks.csv\"))\n",
    "max_dist_threshold = float(100)\n",
    "lines_max_dist_threshold = get_list_threshold(1, max_dist_threshold)\n",
    "stops_max_dist_threshold = get_list_threshold(5, max_dist_threshold)"
   ]
  },
  {
   "cell_type": "code",
   "execution_count": 49,
   "id": "03c43d40-6e7e-4d07-8186-c647eac297f9",
   "metadata": {},
   "outputs": [
    {
     "data": {
      "text/html": [
       "<div>\n",
       "<style scoped>\n",
       "    .dataframe tbody tr th:only-of-type {\n",
       "        vertical-align: middle;\n",
       "    }\n",
       "\n",
       "    .dataframe tbody tr th {\n",
       "        vertical-align: top;\n",
       "    }\n",
       "\n",
       "    .dataframe thead th {\n",
       "        text-align: right;\n",
       "    }\n",
       "</style>\n",
       "<table border=\"1\" class=\"dataframe\">\n",
       "  <thead>\n",
       "    <tr style=\"text-align: right;\">\n",
       "      <th></th>\n",
       "      <th>TrackId</th>\n",
       "      <th>lat</th>\n",
       "      <th>lon</th>\n",
       "      <th>time</th>\n",
       "    </tr>\n",
       "  </thead>\n",
       "  <tbody>\n",
       "    <tr>\n",
       "      <th>0</th>\n",
       "      <td>1</td>\n",
       "      <td>50.851152</td>\n",
       "      <td>4.345326</td>\n",
       "      <td>2021-11-16T08:35:24Z</td>\n",
       "    </tr>\n",
       "    <tr>\n",
       "      <th>1</th>\n",
       "      <td>1</td>\n",
       "      <td>50.851235</td>\n",
       "      <td>4.345191</td>\n",
       "      <td>2021-11-16T08:35:45Z</td>\n",
       "    </tr>\n",
       "    <tr>\n",
       "      <th>2</th>\n",
       "      <td>1</td>\n",
       "      <td>50.851328</td>\n",
       "      <td>4.345069</td>\n",
       "      <td>2021-11-16T08:35:48Z</td>\n",
       "    </tr>\n",
       "    <tr>\n",
       "      <th>3</th>\n",
       "      <td>1</td>\n",
       "      <td>50.851403</td>\n",
       "      <td>4.344988</td>\n",
       "      <td>2021-11-16T08:35:51Z</td>\n",
       "    </tr>\n",
       "    <tr>\n",
       "      <th>4</th>\n",
       "      <td>1</td>\n",
       "      <td>50.851500</td>\n",
       "      <td>4.344920</td>\n",
       "      <td>2021-11-16T08:35:55Z</td>\n",
       "    </tr>\n",
       "  </tbody>\n",
       "</table>\n",
       "</div>"
      ],
      "text/plain": [
       "   TrackId        lat       lon                  time\n",
       "0        1  50.851152  4.345326  2021-11-16T08:35:24Z\n",
       "1        1  50.851235  4.345191  2021-11-16T08:35:45Z\n",
       "2        1  50.851328  4.345069  2021-11-16T08:35:48Z\n",
       "3        1  50.851403  4.344988  2021-11-16T08:35:51Z\n",
       "4        1  50.851500  4.344920  2021-11-16T08:35:55Z"
      ]
     },
     "execution_count": 49,
     "metadata": {},
     "output_type": "execute_result"
    }
   ],
   "source": [
    "gps_df.head()"
   ]
  },
  {
   "cell_type": "code",
   "execution_count": 50,
   "id": "b0a6db0e-7d80-4460-974b-b0681b8f4f27",
   "metadata": {},
   "outputs": [
    {
     "data": {
      "text/plain": [
       "[1, 3, 4, 5, 6, 7, 8, 10, 11]"
      ]
     },
     "execution_count": 50,
     "metadata": {},
     "output_type": "execute_result"
    }
   ],
   "source": [
    "tracks = list(gps_df['TrackId'].unique())\n",
    "tracks"
   ]
  },
  {
   "cell_type": "code",
   "execution_count": 51,
   "id": "672aff52-c566-442c-b7d1-68efd4f2636d",
   "metadata": {},
   "outputs": [],
   "source": [
    "track = 8"
   ]
  },
  {
   "cell_type": "code",
   "execution_count": 52,
   "id": "712f0de6-b17f-4b5e-b2cd-3d724411daa0",
   "metadata": {},
   "outputs": [],
   "source": [
    "track_df = gps_df.loc[gps_df['TrackId'].isin([track])]"
   ]
  },
  {
   "cell_type": "code",
   "execution_count": 53,
   "id": "d3f2af90-93aa-4d1f-b7d0-8f2bf9f23007",
   "metadata": {},
   "outputs": [],
   "source": [
    "track_df = gp.GeoDataFrame(track_df, geometry=gp.points_from_xy(track_df['lon'], track_df['lat']), crs=4326)"
   ]
  },
  {
   "cell_type": "code",
   "execution_count": 54,
   "id": "e9b8ee51-98e3-40d3-99da-aabc3f0526d5",
   "metadata": {},
   "outputs": [],
   "source": [
    "line_max_dist_threshold, closest_lines = get_spatial_join(track_df, line_df, threshold_list=lines_max_dist_threshold, column=\"LIGNE\")"
   ]
  },
  {
   "cell_type": "code",
   "execution_count": 55,
   "id": "16c567e6-d9f8-4cb6-9b27-df4d795a517a",
   "metadata": {},
   "outputs": [],
   "source": [
    "stop_max_dist_threshold, closest_stops = get_spatial_join(track_df, stops_df, threshold_list=stops_max_dist_threshold, column=\"Code_Ligne\")"
   ]
  },
  {
   "cell_type": "code",
   "execution_count": 56,
   "id": "0fcc2cf1-c7b7-4ba2-bb8e-ce8c97f20bae",
   "metadata": {},
   "outputs": [],
   "source": [
    "modes = get_intersection(closest_lines, closest_stops)"
   ]
  },
  {
   "cell_type": "code",
   "execution_count": 90,
   "id": "6d442ba4-aa0c-44a5-9d7c-897c3c607e13",
   "metadata": {},
   "outputs": [],
   "source": [
    "lines = line_df.loc[line_df['LIGNE'].isin(modes)]\n",
    "stops = stops_df.loc[stops_df['Code_Ligne'].isin(modes)]"
   ]
  },
  {
   "cell_type": "code",
   "execution_count": 95,
   "id": "6373394c-35ab-4c43-a053-f8bb326b6874",
   "metadata": {},
   "outputs": [],
   "source": [
    "track_df = track_df.to_crs(line_df.crs)"
   ]
  },
  {
   "cell_type": "code",
   "execution_count": null,
   "id": "fb8daf38-62f5-44f6-b041-1dd1fa524c66",
   "metadata": {},
   "outputs": [],
   "source": [
    "fig, ax = plt.subplots(figsize=(15, 15))\n",
    "track_df.plot(ax=ax, alpha=0.7, color=\"pink\")\n",
    "line_df.loc[line_df['LIGNE'].isin(modes)].plot(ax=ax)\n",
    "# line_df.plot(ax=ax)"
   ]
  },
  {
   "cell_type": "code",
   "execution_count": null,
   "id": "7d7859a3-c558-4690-a2fa-5928d9fcf007",
   "metadata": {},
   "outputs": [],
   "source": []
  }
 ],
 "metadata": {
  "kernelspec": {
   "display_name": "Py Data Mining",
   "language": "python",
   "name": "data_mining"
  },
  "language_info": {
   "codemirror_mode": {
    "name": "ipython",
    "version": 3
   },
   "file_extension": ".py",
   "mimetype": "text/x-python",
   "name": "python",
   "nbconvert_exporter": "python",
   "pygments_lexer": "ipython3",
   "version": "3.8.12"
  }
 },
 "nbformat": 4,
 "nbformat_minor": 5
}
