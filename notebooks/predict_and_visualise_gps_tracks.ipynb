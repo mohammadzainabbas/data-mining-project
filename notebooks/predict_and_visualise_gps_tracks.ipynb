{
 "cells": [
  {
   "cell_type": "code",
   "execution_count": 1,
   "id": "f6b17bd9-c7d1-4c8e-82b7-9a20bbb0038a",
   "metadata": {},
   "outputs": [
    {
     "name": "stderr",
     "output_type": "stream",
     "text": [
      "/opt/homebrew/anaconda3/envs/data_mining/lib/python3.8/site-packages/geopandas/_compat.py:111: UserWarning: The Shapely GEOS version (3.9.1-CAPI-1.14.2) is incompatible with the GEOS version PyGEOS was compiled with (3.10.1-CAPI-1.16.0). Conversions between both will be slow.\n",
      "  warnings.warn(\n"
     ]
    }
   ],
   "source": [
    "from os import getcwd\n",
    "from os.path import join, abspath, pardir\n",
    "from json import dump\n",
    "import geopandas as gp\n",
    "from shapely.geometry import LineString\n",
    "import pandas as pd\n",
    "import numpy as np\n",
    "from collections import namedtuple\n",
    "import matplotlib.pyplot as plt\n",
    "from shapely.ops import nearest_points\n",
    "from IPython.display import display\n",
    "from ipywidgets import interact, interactive, fixed, interact_manual, FloatSlider, Dropdown, Text, GridBox, VBox, HBox, Accordion, Output, Checkbox, Layout, IntProgress, Tab, Image, Button"
   ]
  },
  {
   "cell_type": "markdown",
   "id": "4245a014-56b4-4ab3-84db-b24b5ed92d98",
   "metadata": {
    "jp-MarkdownHeadingCollapsed": true,
    "tags": []
   },
   "source": [
    "##### Configs"
   ]
  },
  {
   "cell_type": "code",
   "execution_count": 2,
   "id": "1927f058-4d3f-4c7d-9885-274a37a771fe",
   "metadata": {},
   "outputs": [],
   "source": [
    "parent_dir = abspath(join(getcwd(), pardir))\n",
    "shape_files_dir = join(parent_dir, \"2109_STIB_MIVB_Network\")\n",
    "gps_files_dir = join(parent_dir, \"GPS\")\n",
    "line_shape_file = join(shape_files_dir, \"ACTU_LINES.shp\")\n",
    "stops_shape_file = join(shape_files_dir, \"ACTU_STOPS.shp\")"
   ]
  },
  {
   "cell_type": "markdown",
   "id": "b8060038-4a63-4781-a1cf-5cf06a40e48e",
   "metadata": {
    "tags": []
   },
   "source": [
    "##### Load files"
   ]
  },
  {
   "cell_type": "code",
   "execution_count": 3,
   "id": "36e813f5-4ab3-42aa-8da5-8f4488475cd2",
   "metadata": {},
   "outputs": [],
   "source": [
    "line_df = gp.read_file(line_shape_file)\n",
    "stops_df = gp.read_file(stops_shape_file)\n",
    "gps_df = pd.read_csv(join(gps_files_dir, \"GPStracks.csv\"))"
   ]
  },
  {
   "cell_type": "markdown",
   "id": "1e746c67-86a7-40a3-9b52-5dc15bdc1b66",
   "metadata": {
    "tags": []
   },
   "source": [
    "##### Helper functions for prediction of mode transport"
   ]
  },
  {
   "cell_type": "code",
   "execution_count": 4,
   "id": "f54e59ca-9256-49f7-957f-955bcd929f06",
   "metadata": {},
   "outputs": [],
   "source": [
    "def get_list_threshold(min=1, max=100):\n",
    "    return [x for x in range(int(min), int(max)) if all(x % t for t in range(2, x))]\n",
    "\n",
    "def get_spatial_join(df1, df2, threshold_list, column=None, **kwargs):\n",
    "    if not isinstance(df1, gp.GeoDataFrame): raise ValueError(\"Kindly, pass a valid geo pandas dataframe.\")\n",
    "    if not isinstance(df2, gp.GeoDataFrame): raise ValueError(\"Kindly, pass a valid geo pandas dataframe.\")\n",
    "    if (not isinstance(threshold_list, list)) or (not len(threshold_list)): raise ValueError(\"Kindly, pass a valid threshold list.\")\n",
    "    \n",
    "    # Make sure both geo-panda dataframes 'df1' & 'df2' have the same coordinate reference system (crs)\n",
    "    if df1.crs != df2.crs:\n",
    "        df1 = df1.to_crs(df2.crs)\n",
    "    \n",
    "    _threshold_ = float(0)\n",
    "    df = None\n",
    "    for threshold in threshold_list:\n",
    "        df = df2.sjoin_nearest(df1, max_distance=float(threshold), distance_col=\"distances\", **kwargs)\n",
    "        if not df.empty:\n",
    "            _threshold_ = threshold\n",
    "            break\n",
    "    if (column is None) or (column not in df.columns.to_list()):\n",
    "        return _threshold_, list(), df\n",
    "    else:\n",
    "        return _threshold_, list(df[column].unique()), df\n",
    "    \n",
    "def get_intersection(list_1, list_2):\n",
    "    if (not isinstance(list_1, list)) or (not isinstance(list_2, list)): raise ValueError(\"Kindly, pass a valid list for intersection.\")\n",
    "    \n",
    "    return list( set(list_1).intersection( set(list_2) ) )\n",
    "\n",
    "def plot_tracks(track_df, df, modes, col='LIGNE', title=str()):\n",
    "    colors = ['Greys', 'Purples', 'Blues', 'Greens', 'Oranges', 'Reds', 'YlOrBr', 'YlOrRd', 'OrRd', 'PuRd', 'RdPu', 'BuPu', 'GnBu', 'PuBu', 'YlGnBu', 'PuBuGn', 'BuGn', 'YlGn']\n",
    "    fig, ax = plt.subplots(figsize=(15, 15))\n",
    "    track_df.to_crs(df.crs).plot(ax=ax, alpha=0.7, color=\"pink\")\n",
    "    for i, mode in enumerate(modes):\n",
    "        df.loc[df[col].isin(modes)].plot(ax=ax, cmap=colors[i])\n",
    "    fig.suptitle(title)\n",
    "    return fig, ax"
   ]
  },
  {
   "cell_type": "markdown",
   "id": "7bca759a-d5ff-403c-8ec4-d4b8e6ab78f4",
   "metadata": {
    "tags": []
   },
   "source": [
    "##### Predict the mode of transport for each GPS track"
   ]
  },
  {
   "cell_type": "code",
   "execution_count": 5,
   "id": "0432c015-544b-4385-a204-50b03e17bbd2",
   "metadata": {},
   "outputs": [],
   "source": [
    "def predict_transport_mode(gps_df, line_df, stops_df, max_dist_threshold):\n",
    "    if not isinstance(gps_df, pd.DataFrame): raise ValueError(\"Kindly, pass the gps track(s) data as a pandas dataframe.\")\n",
    "    if not isinstance(stops_df, gp.GeoDataFrame): raise ValueError(\"Kindly, pass the stops data as a geo pandas dataframe.\")\n",
    "    if not isinstance(line_df, gp.GeoDataFrame): raise ValueError(\"Kindly, pass the stops data as a geo pandas dataframe.\")\n",
    "    \n",
    "    # Get list of all the tracks in the GPS data\n",
    "    tracks = list(gps_df['TrackId'].unique())\n",
    "    \n",
    "    # Max. threshold for max_dist (in meters)\n",
    "    # max_dist_threshold = float(100)\n",
    "    \n",
    "    # List of thresholds for lines and stops\n",
    "    lines_max_dist_threshold = get_list_threshold(1, max_dist_threshold)\n",
    "    stops_max_dist_threshold = get_list_threshold(5, max_dist_threshold)\n",
    "    \n",
    "    # For result\n",
    "    Result = namedtuple('Result', ['track_id', 'mode', 'nearest', 'modes', 'fig', 'ax'])\n",
    "    results = dict()\n",
    "    \n",
    "    # For each GPS track\n",
    "    for track in tracks:\n",
    "        \n",
    "        # 1. Get 'track' data from gps_df\n",
    "        track_df = gps_df.loc[gps_df['TrackId'].isin([track])]\n",
    "        \n",
    "        # 2. Convert into geo-pandas dataframe with coordinate reference system (crs) of '4326' (WGS 84)\n",
    "        track_df = gp.GeoDataFrame(track_df, geometry=gp.points_from_xy(track_df['lon'], track_df['lat']), crs=4326)\n",
    "        \n",
    "        # 3. Get spatial join with lines\n",
    "        line_max_dist_threshold, closest_lines, track_line_df = get_spatial_join(track_df, line_df, threshold_list=lines_max_dist_threshold, column=\"LIGNE\")\n",
    "\n",
    "        # 4. Get spatial join with stops\n",
    "        stop_max_dist_threshold, closest_stops, track_stop_df = get_spatial_join(track_df, stops_df, threshold_list=stops_max_dist_threshold, column=\"Code_Ligne\")\n",
    "        \n",
    "        # 5. Get intersection of common modes\n",
    "        modes = get_intersection(closest_lines, closest_stops)\n",
    "        \n",
    "        # Sanity check (if no modes) -> probably the mode is \"others\"\n",
    "        if not len(modes):\n",
    "            results[track] = Result(track_id=track, mode=\"others\", nearest=\"others\", modes=list(), fig=None, ax=None)\n",
    "            continue\n",
    "                \n",
    "        # 6. Save the plots for later usage (maybe)\n",
    "        # fig, ax = plot_tracks(track_df, line_df, modes, 'LIGNE', \"Track {}\".format(track))\n",
    "        \n",
    "        # 7. For each transport mode, get the variant for each track and store it's geometry (for next step)\n",
    "        # Also, change the coordinate reference system (crs) from '4326' to same as the 'line_df' one.\n",
    "        modes_line_geo = dict()\n",
    "        track_result = dict(others=0)\n",
    "        track_df = track_df.to_crs(line_df.crs)\n",
    "        for mode in modes:\n",
    "            line_t = line_df.loc[line_df['LIGNE'].isin([mode])]\n",
    "            variant_t = list(track_line_df.loc[track_line_df['LIGNE'].isin([mode])]['VARIANTE'].unique())\n",
    "            line_t = line_t.loc[line_t['VARIANTE'].isin(variant_t)]\n",
    "\n",
    "            modes_line_geo[mode] = list(line_t['geometry'])[0]\n",
    "            track_result[mode] = 0\n",
    "        \n",
    "        # 8. For each point in our track, calculate the distance and see which mode is closer, increment the one which is closer. \n",
    "        # If the nearest point has more distance than the \"max_dist_threshold\", then increment the \"others\" count\n",
    "        # max_dist_threshold = float(20)\n",
    "        track_points = list(track_df['geometry'])\n",
    "        for track_point in track_points:\n",
    "            distance = dict()\n",
    "            for mode in modes:\n",
    "                line_geo = modes_line_geo[mode]\n",
    "                nearest = nearest_points(line_geo, track_point)[0]\n",
    "                nearest_distance = nearest.distance(track_point)\n",
    "                distance[mode] = nearest_distance\n",
    "            nearest = min(distance, key=lambda k: distance[k])\n",
    "            if distance[nearest] > max_dist_threshold: nearest = 'others'\n",
    "            track_result[nearest] = track_result[nearest] + 1\n",
    "\n",
    "        # 9. Convert to probabilities\n",
    "        for key in list(track_result.keys()):\n",
    "            track_result[key] = (float(track_result[key]) / len(track_points)) * 100\n",
    "            \n",
    "        # 10. Get the nearest point\n",
    "        _max_probability_ = max(track_result, key=lambda k: track_result[k])\n",
    "        _nearest_ = track_result[_max_probability_]\n",
    "        \n",
    "        _mode_ = \"others\"\n",
    "        \n",
    "        if _max_probability_.find(\"b\") != -1:\n",
    "            _mode_ = \"bus\"\n",
    "        elif _max_probability_.find(\"t\") != -1 and _max_probability_ != \"others\":\n",
    "            _mode_ = \"tram\"\n",
    "        elif _max_probability_.find(\"m\") != -1:\n",
    "            _mode_ = \"metro\"\n",
    "\n",
    "        if _max_probability_ != \"others\": modes = [_max_probability_]\n",
    "        fig, ax = plot_tracks(track_df, line_df, modes, 'LIGNE', \"Track {}\".format(track))\n",
    "        results[track] = Result(track_id=track, mode=_mode_, nearest=_max_probability_, modes=track_result, fig=fig, ax=ax)\n",
    "    \n",
    "    return results"
   ]
  },
  {
   "cell_type": "code",
   "execution_count": 6,
   "id": "0ffd47ad-1124-4f38-a0e8-dc8b24502fd7",
   "metadata": {},
   "outputs": [],
   "source": [
    "tracks = [\"None\"] + list(gps_df['TrackId'].unique())\n",
    "show_plot = False\n",
    "max_dist_threshold = float(20)"
   ]
  },
  {
   "cell_type": "markdown",
   "id": "2bceb2d1-b06a-46f2-b52c-7e72254266b8",
   "metadata": {
    "jp-MarkdownHeadingCollapsed": true,
    "tags": []
   },
   "source": [
    "##### Interactive Widget component(s)"
   ]
  },
  {
   "cell_type": "code",
   "execution_count": 7,
   "id": "16930d76-532a-40a5-aea1-f559c36c38ec",
   "metadata": {},
   "outputs": [],
   "source": [
    "w_tracks = Dropdown(options=tracks, value=tracks[0], description='Track ID ', disabled=False)\n",
    "w_show_plot = Checkbox(value=show_plot, description='Show Plot(s)', disabled=False)\n",
    "w_max_dist_threshold = FloatSlider(value=max_dist_threshold, min=float(0), max=float(100), step=float(0.1), description='Max. distance threshold ', disabled=False, continuous_update=False, orientation='horizontal', readout=True, readout_format='.1f')\n",
    "\n",
    "w_output = Output()\n",
    "w_button = Button(description=\"Let's Predict\")\n",
    "\n",
    "def on_button_clicked(b):\n",
    "    with w_output:\n",
    "        w_output.clear_output()\n",
    "        if w_tracks.value == tracks[0]:\n",
    "            print(\"Sorry! Please select a track ID first\")\n",
    "        else:\n",
    "            track_gps_df = gps_df.loc[gps_df['TrackId'].isin([w_tracks.value])]\n",
    "            results = predict_transport_mode(track_gps_df, line_df, stops_df, w_max_dist_threshold.value)\n",
    "            for key in list(results.keys()):\n",
    "                result = results[key]\n",
    "                print(\"Track: {}\\n\\nMode: '{}'\\n\\nPredicted: '{}'\\n\".format(result[0], result[1], result[2]))\n",
    "                \n",
    "                _p_ = dict(sorted(result[3].items(), key=lambda item: item[1], reverse=True))\n",
    "                \n",
    "                print(\"Probabilities: {}\".format(_p_))\n",
    "                \n",
    "                if w_show_plot.value:\n",
    "                      display(result[4])\n",
    "\n",
    "w_button.on_click(on_button_clicked)\n",
    "\n",
    "meta_data = [ w_tracks, w_max_dist_threshold, w_show_plot, w_button, w_output ]\n",
    "grid_box = GridBox(meta_data, layout=Layout(grid_template_columns=\"repeat(2, 50%)\"))"
   ]
  },
  {
   "cell_type": "markdown",
   "id": "784feefb-87c7-45bc-a3a7-76a684461f7b",
   "metadata": {},
   "source": [
    "##### Let's predict the track based on GPS Track's data"
   ]
  },
  {
   "cell_type": "code",
   "execution_count": 8,
   "id": "54f86b5d-1784-4e7d-adeb-534acf9bef6d",
   "metadata": {},
   "outputs": [
    {
     "data": {
      "application/vnd.jupyter.widget-view+json": {
       "model_id": "44ad67a1fa844b5fb2dfe6d1195787a1",
       "version_major": 2,
       "version_minor": 0
      },
      "text/plain": [
       "GridBox(children=(Dropdown(description='Track ID ', options=('None', 1, 3, 4, 5, 6, 7, 8, 10, 11), value='None…"
      ]
     },
     "metadata": {},
     "output_type": "display_data"
    }
   ],
   "source": [
    "grid_box"
   ]
  },
  {
   "cell_type": "code",
   "execution_count": null,
   "id": "c075e5ef-5ce0-49e6-9bef-fbd899aa4f97",
   "metadata": {},
   "outputs": [],
   "source": []
  }
 ],
 "metadata": {
  "kernelspec": {
   "display_name": "Py Data Mining",
   "language": "python",
   "name": "data_mining"
  },
  "language_info": {
   "codemirror_mode": {
    "name": "ipython",
    "version": 3
   },
   "file_extension": ".py",
   "mimetype": "text/x-python",
   "name": "python",
   "nbconvert_exporter": "python",
   "pygments_lexer": "ipython3",
   "version": "3.8.12"
  }
 },
 "nbformat": 4,
 "nbformat_minor": 5
}
