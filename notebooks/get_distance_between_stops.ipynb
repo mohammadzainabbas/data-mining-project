{
 "cells": [
  {
   "cell_type": "code",
   "execution_count": 1,
   "id": "f6b17bd9-c7d1-4c8e-82b7-9a20bbb0038a",
   "metadata": {},
   "outputs": [],
   "source": [
    "from os import getcwd\n",
    "from os.path import join, abspath, pardir\n",
    "from json import dump\n",
    "import geopandas as gp\n",
    "from shapely.geometry import Point, LineString"
   ]
  },
  {
   "cell_type": "markdown",
   "id": "4245a014-56b4-4ab3-84db-b24b5ed92d98",
   "metadata": {},
   "source": [
    "##### Configs"
   ]
  },
  {
   "cell_type": "code",
   "execution_count": 7,
   "id": "2883f6f7-34eb-47ac-b285-f194762d6c7f",
   "metadata": {},
   "outputs": [],
   "source": [
    "parent_dir = abspath(join(getcwd(), pardir))\n",
    "shape_files_dir = join(parent_dir, \"2109_STIB_MIVB_Network\")\n",
    "line_shape_file = join(shape_files_dir, \"ACTU_LINES.shp\")\n",
    "stops_shape_file = join(shape_files_dir, \"ACTU_STOPS.shp\")\n",
    "output_file = join(parent_dir, \"distances.json\")"
   ]
  },
  {
   "cell_type": "markdown",
   "id": "b8060038-4a63-4781-a1cf-5cf06a40e48e",
   "metadata": {},
   "source": [
    "##### Load files"
   ]
  },
  {
   "cell_type": "code",
   "execution_count": 3,
   "id": "36e813f5-4ab3-42aa-8da5-8f4488475cd2",
   "metadata": {},
   "outputs": [],
   "source": [
    "line_df = gp.read_file(line_shape_file)\n",
    "stops_df = gp.read_file(stops_shape_file)"
   ]
  },
  {
   "cell_type": "markdown",
   "id": "628a1e14-e6d9-43f1-80e2-7f93fc1823ae",
   "metadata": {
    "tags": []
   },
   "source": [
    "##### Method to calculate the distance between two stops for a given transport route"
   ]
  },
  {
   "cell_type": "code",
   "execution_count": 4,
   "id": "ffb3f94b-4c4d-422c-b490-fe4054d1793c",
   "metadata": {},
   "outputs": [],
   "source": [
    "def calculate_distance_between_stops(stops_data, points):\n",
    "    if not isinstance(stops_data, dict): raise ValueError(\"Kindly, pass the stops data with 'stop_id' and 'stop_points'.\")\n",
    "    if not isinstance(points, LineString): raise ValueError(\"Kindly, pass the correct points data.\")\n",
    "    previous_stop_id, previous_distance, distance = None, None, list()\n",
    "    for index, stop_id in enumerate(stops_data):\n",
    "        stop_point = stops_data[stop_id]\n",
    "        stop_distance = points.project(stop_point)\n",
    "        if index != 0:\n",
    "            v = {\"from\": previous_stop_id, \"to\": stop_id, \"distance\": float(stop_distance - previous_distance) }\n",
    "            distance.append(v)\n",
    "        previous_stop_id = stop_id\n",
    "        previous_distance = stop_distance\n",
    "    return distance"
   ]
  },
  {
   "cell_type": "markdown",
   "id": "f90fd453-3fbf-44f8-9a3f-f9a45a9788d0",
   "metadata": {},
   "source": [
    "##### Get Distance between stops for all the variants for a given transport"
   ]
  },
  {
   "cell_type": "code",
   "execution_count": 5,
   "id": "62a947d4-f9c5-4108-b155-b03c03215d68",
   "metadata": {},
   "outputs": [],
   "source": [
    "def get_stop_distances_for_transport(transport, line_df, stops_df):\n",
    "    lines = line_df.loc[line_df['LIGNE'].isin([transport])]\n",
    "    stops = stops_df.loc[stops_df['Code_Ligne'].isin([transport])]\n",
    "    variants = list(line_df['VARIANTE'].unique())\n",
    "    transport_data = dict()\n",
    "    for variant in variants:        \n",
    "        lines_v = lines.loc[lines['VARIANTE'].isin([variant])]\n",
    "        stops_v = stops.loc[stops['Variante'].isin([variant])]\n",
    "        \n",
    "        v_points = list(lines_v['geometry'])[0]\n",
    "        stops_data_v = dict(zip(stops_v.stop_id, stops_v.geometry))\n",
    "        \n",
    "        transport_data[int(variant)] = calculate_distance_between_stops(stops_data=stops_data_v, points=v_points)\n",
    "        \n",
    "    return transport_data"
   ]
  },
  {
   "cell_type": "markdown",
   "id": "30b82f80-c395-4bb4-9bb0-ef2ae75c7c81",
   "metadata": {},
   "source": [
    "##### Get distances between the stops for all buses, trams, metros"
   ]
  },
  {
   "cell_type": "code",
   "execution_count": 6,
   "id": "c1340139-2667-4cef-88b2-3d96f6238795",
   "metadata": {},
   "outputs": [],
   "source": [
    "transports = sorted(set(line_df['LIGNE']))\n",
    "transport_distances = dict()\n",
    "for transport in transports:\n",
    "    transport_distances[transport] = get_stop_distances_for_transport(transport=transport, line_df=line_df, stops_df=stops_df)"
   ]
  },
  {
   "cell_type": "markdown",
   "id": "a312603d-7eee-472b-a68a-e1a88f4c6b26",
   "metadata": {},
   "source": [
    "##### Save the distances between the stops for all buses, trams, metros"
   ]
  },
  {
   "cell_type": "code",
   "execution_count": 8,
   "id": "0b8b1116-f428-4a3c-8d7b-aab7d5a42b5b",
   "metadata": {},
   "outputs": [],
   "source": [
    "with open(output_file, 'w') as f:\n",
    "    dump(transport_distances, f)"
   ]
  },
  {
   "cell_type": "code",
   "execution_count": null,
   "id": "adeb6a6a-b04e-42a4-ba02-3a3085c8f68a",
   "metadata": {},
   "outputs": [],
   "source": []
  }
 ],
 "metadata": {
  "kernelspec": {
   "display_name": "Py Data Mining",
   "language": "python",
   "name": "data_mining"
  },
  "language_info": {
   "codemirror_mode": {
    "name": "ipython",
    "version": 3
   },
   "file_extension": ".py",
   "mimetype": "text/x-python",
   "name": "python",
   "nbconvert_exporter": "python",
   "pygments_lexer": "ipython3",
   "version": "3.8.12"
  }
 },
 "nbformat": 4,
 "nbformat_minor": 5
}
