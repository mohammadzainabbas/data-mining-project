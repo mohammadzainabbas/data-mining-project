{
 "cells": [
  {
   "cell_type": "code",
   "execution_count": 51,
   "id": "f6b17bd9-c7d1-4c8e-82b7-9a20bbb0038a",
   "metadata": {},
   "outputs": [],
   "source": [
    "from os import getcwd, listdir, makedirs\n",
    "from os.path import join, exists, isfile, isdir, abspath, pardir\n",
    "from json import load, dump\n",
    "import pandas as pd\n",
    "import numpy as np\n",
    "import geopandas as gp\n",
    "from shapely.geometry import Point, LineString"
   ]
  },
  {
   "cell_type": "markdown",
   "id": "4245a014-56b4-4ab3-84db-b24b5ed92d98",
   "metadata": {},
   "source": [
    "##### Configs"
   ]
  },
  {
   "cell_type": "code",
   "execution_count": 2,
   "id": "2883f6f7-34eb-47ac-b285-f194762d6c7f",
   "metadata": {},
   "outputs": [],
   "source": [
    "shape_files_dir = join(abspath(join(getcwd(), pardir)), \"2109_STIB_MIVB_Network\")\n",
    "line_shape_file = join(shape_files_dir, \"ACTU_LINES.shp\")\n",
    "stops_shape_file = join(shape_files_dir, \"ACTU_STOPS.shp\")"
   ]
  },
  {
   "cell_type": "code",
   "execution_count": 3,
   "id": "36e813f5-4ab3-42aa-8da5-8f4488475cd2",
   "metadata": {},
   "outputs": [],
   "source": [
    "line_df = gp.read_file(line_shape_file)\n",
    "stops_df = gp.read_file(stops_shape_file)"
   ]
  },
  {
   "cell_type": "markdown",
   "id": "fe00db7b-f728-47cd-8cd9-a5bf827b3d5c",
   "metadata": {},
   "source": [
    "#### For bus 95"
   ]
  },
  {
   "cell_type": "code",
   "execution_count": 4,
   "id": "3ed2e66e-2072-4c68-8667-dd1d3ed37bd9",
   "metadata": {},
   "outputs": [],
   "source": [
    "transport = '095b'"
   ]
  },
  {
   "cell_type": "code",
   "execution_count": 5,
   "id": "06e6acf2-492d-44e9-be6b-6307097c0a53",
   "metadata": {},
   "outputs": [],
   "source": [
    "lines = line_df.loc[line_df['LIGNE'].isin([transport])]\n",
    "stops = stops_df.loc[stops_df['Code_Ligne'].isin([transport])]"
   ]
  },
  {
   "cell_type": "code",
   "execution_count": 6,
   "id": "c12cdbaf-020e-43f1-9cf0-47cfd4c1ac5c",
   "metadata": {},
   "outputs": [],
   "source": [
    "lines_v1 = lines.loc[lines['VARIANTE'].isin([1])]\n",
    "lines_v2 = lines.loc[lines['VARIANTE'].isin([2])]\n",
    "stops_v1 = stops.loc[stops['Variante'].isin([1])]\n",
    "stops_v2 = stops.loc[stops['Variante'].isin([2])]"
   ]
  },
  {
   "cell_type": "code",
   "execution_count": 26,
   "id": "dd583aff-1760-471a-9334-0a0569f11204",
   "metadata": {},
   "outputs": [],
   "source": [
    "v1_points = list(lines_v1['geometry'])[0]\n",
    "v2_points = list(lines_v2['geometry'])[0]"
   ]
  },
  {
   "cell_type": "code",
   "execution_count": 10,
   "id": "95087306-9ee8-462c-90a1-3e4187606a9a",
   "metadata": {},
   "outputs": [],
   "source": [
    "# v1_points = [Point(x, y) for x, y, _ in list(v1_points.coords)]\n",
    "# v2_points = [Point(x, y) for x, y, _ in list(v2_points.coords)]"
   ]
  },
  {
   "cell_type": "code",
   "execution_count": 17,
   "id": "285ffbf8-1db9-4957-b44e-52f9b6a54406",
   "metadata": {},
   "outputs": [],
   "source": [
    "stops_data_v1 = dict(zip(stops_v1.stop_id, stops_v1.geometry))\n",
    "stops_data_v2 = dict(zip(stops_v2.stop_id, stops_v2.geometry))"
   ]
  },
  {
   "cell_type": "code",
   "execution_count": 27,
   "id": "98d5ad59-2f83-4347-8b6d-234987b4e4fd",
   "metadata": {},
   "outputs": [
    {
     "data": {
      "text/plain": [
       "shapely.geometry.linestring.LineString"
      ]
     },
     "execution_count": 27,
     "metadata": {},
     "output_type": "execute_result"
    }
   ],
   "source": [
    "type(v1_points)"
   ]
  },
  {
   "cell_type": "code",
   "execution_count": 46,
   "id": "14e6ab87-e208-4a56-a992-9d5b7892ffd6",
   "metadata": {},
   "outputs": [
    {
     "data": {
      "text/plain": [
       "dict"
      ]
     },
     "execution_count": 46,
     "metadata": {},
     "output_type": "execute_result"
    }
   ],
   "source": [
    "type(stops_data_v1)"
   ]
  },
  {
   "cell_type": "code",
   "execution_count": 32,
   "id": "66d8fe99-4a3b-4fe3-b0bd-95159dd7b960",
   "metadata": {},
   "outputs": [
    {
     "data": {
      "text/plain": [
       "701.1202884557507"
      ]
     },
     "execution_count": 32,
     "metadata": {},
     "output_type": "execute_result"
    }
   ],
   "source": [
    "v1_points.project(stops_data_v1['1128'])"
   ]
  },
  {
   "cell_type": "code",
   "execution_count": 52,
   "id": "ffb3f94b-4c4d-422c-b490-fe4054d1793c",
   "metadata": {},
   "outputs": [],
   "source": [
    "def calculate_distance_between_stops(stops_data, points):\n",
    "    if not isinstance(stops_data, dict): raise ValueError(\"Kindly, pass the stops data with 'stop_id' and 'stop_points'.\")\n",
    "    if not isinstance(points, LineString): raise ValueError(\"Kindly, pass the correct points data.\")\n",
    "    previous_stop_id, previous_distance, distance = None, None, list()\n",
    "    for index, stop_id in enumerate(stops_data):\n",
    "        stop_point = stops_data[stop_id]\n",
    "        stop_distance = points.project(stop_point)\n",
    "        if index != 0:\n",
    "            v = {\"from\": previous_stop_id, \"to\": stop_id, \"distance\": float(stop_distance - previous_distance) }\n",
    "            distance.append(v)\n",
    "        previous_stop_id = stop_id\n",
    "        previous_distance = stop_distance\n",
    "    return distance"
   ]
  },
  {
   "cell_type": "code",
   "execution_count": 57,
   "id": "f38d7643-1c9e-47ec-98f9-e4818dbd8e7c",
   "metadata": {},
   "outputs": [],
   "source": [
    "data = calculate_distance_between_stops(stops_data=stops_data_v1, points=v1_points)"
   ]
  },
  {
   "cell_type": "code",
   "execution_count": null,
   "id": "71113c4a-7e76-479b-8748-eec1a3c09e23",
   "metadata": {},
   "outputs": [],
   "source": [
    "calculate_distance_between_stops(stops_data=stops_data_v2, points=v2_points)"
   ]
  },
  {
   "cell_type": "code",
   "execution_count": 58,
   "id": "3233d1fa-fec5-4f06-9115-e84ff1481164",
   "metadata": {},
   "outputs": [],
   "source": [
    "def __calculate_distance_between_stops__(stops_data=dict(), points=list()):\n",
    "    if not isinstance(stops_data, dict): raise ValueError(\"Kindly, pass the stops data with 'stop_id' and 'stop_points'.\")\n",
    "    if not isinstance(points, LineString): raise ValueError(\"Kindly, pass the correct points data.\")\n",
    "    \n",
    "    def calculate_minimum_distance(stop_point, line_points):\n",
    "        minimum_distance = None\n",
    "        minimum_sum_distance = None\n",
    "        minimum_point = None\n",
    "        sum_distance = float(0)\n",
    "        line_points = list(line_points.coords)\n",
    "        for index, line_point in enumerate(line_points):\n",
    "            x, y, _ = line_point\n",
    "            point = Point(x, y)\n",
    "            distance = point.distance(stop_point)\n",
    "            sum_distance = sum_distance + distance\n",
    "            if (minimum_distance is None) or (distance < minimum_distance):\n",
    "                minimum_distance = distance\n",
    "                minimum_sum_distance = sum_distance\n",
    "                minimum_point = point\n",
    "        return minimum_point, minimum_sum_distance\n",
    "    \n",
    "    def get_distance_from_point(stop_point, line_points, start_index=0):\n",
    "        sum_distance = float(0)\n",
    "        for index, line_point in enumerate(line_points[start_index:]):\n",
    "            x, y, _ = line_point\n",
    "            point = Point(x, y)\n",
    "            if point.equals(stop_point):\n",
    "                return index + start_index, sum_distance\n",
    "            else:\n",
    "                sum_distance = sum_distance + point.distance(stop_point)\n",
    "        \n",
    "    data = list()\n",
    "    stops = list(stops_data.keys())\n",
    "    \n",
    "    for stop in stops:\n",
    "        stop_point = stops_data[stop]\n",
    "        min_point, distance_from_start = calculate_minimum_distance(stop_point, points)\n",
    "        value = { \"stop\": stop, \"stop_point\": stop_point, \"min_point\": min_point, \"distance_from_start\": distance_from_start }\n",
    "        data.append(value)\n",
    "        \n",
    "#     stop_index = 0\n",
    "#     for i, d in enumerate(stops_data):\n",
    "#         distance_from_nearest_stop = d['stop_point'].distance(d['min_point'])\n",
    "#         stops_data[i]['distance_from_nearest_stop'] = distance_from_nearest_stop\n",
    "#         stop_index, distance = get_distance_from_point(stop_point= d['stop_point'], line_points= line_points, start_index=stop_index)\n",
    "#         stops_data[i]['distance'] = distance\n",
    "        \n",
    "    return data\n",
    "_data = __calculate_distance_between_stops__(stops_data=stops_data_v1, points=v1_points)"
   ]
  },
  {
   "cell_type": "code",
   "execution_count": 61,
   "id": "0f0d51b7-a7fe-40f3-80e9-68ea1606ad7e",
   "metadata": {},
   "outputs": [],
   "source": [
    "def search(d, k, v):\n",
    "    for p in d:\n",
    "        if p[k] == v:\n",
    "            return p"
   ]
  },
  {
   "cell_type": "code",
   "execution_count": 74,
   "id": "77c15d67-a355-46e4-ae2d-3181e5266d48",
   "metadata": {},
   "outputs": [],
   "source": [
    "stop = '2268'"
   ]
  },
  {
   "cell_type": "code",
   "execution_count": 75,
   "id": "1062e023-73de-4fb8-9cdf-b05ba0b9fe81",
   "metadata": {},
   "outputs": [],
   "source": [
    "d1 = search(_data, 'stop', stop)\n",
    "d2 = search(data, 'to', stop)"
   ]
  },
  {
   "cell_type": "code",
   "execution_count": 76,
   "id": "cee83e4c-acc6-4693-a545-a6465e084d01",
   "metadata": {},
   "outputs": [
    {
     "data": {
      "text/plain": [
       "({'stop': '2268',\n",
       "  'stop_point': <shapely.geometry.point.Point at 0x7f78b8ae4af0>,\n",
       "  'min_point': <shapely.geometry.point.Point at 0x7f78b82b6460>,\n",
       "  'distance_from_start': 2140.3334461594673},\n",
       " {'from': '2278', 'to': '2268', 'distance': 233.8455980071548})"
      ]
     },
     "execution_count": 76,
     "metadata": {},
     "output_type": "execute_result"
    }
   ],
   "source": [
    "d1, d2"
   ]
  },
  {
   "cell_type": "code",
   "execution_count": 77,
   "id": "4439dc1b-6157-4ea8-b9d9-ad2a8526603f",
   "metadata": {},
   "outputs": [
    {
     "data": {
      "text/plain": [
       "233.8455980071548"
      ]
     },
     "execution_count": 77,
     "metadata": {},
     "output_type": "execute_result"
    }
   ],
   "source": [
    "d2['distance']"
   ]
  },
  {
   "cell_type": "code",
   "execution_count": 78,
   "id": "0b0f37eb-a1f2-464b-a9f5-6649eeb957d0",
   "metadata": {},
   "outputs": [
    {
     "data": {
      "text/plain": [
       "233.84091107783337"
      ]
     },
     "execution_count": 78,
     "metadata": {},
     "output_type": "execute_result"
    }
   ],
   "source": [
    "v1_points.project(d1['min_point'])"
   ]
  },
  {
   "cell_type": "code",
   "execution_count": 79,
   "id": "9141bc49-14a7-4e3d-99cc-75fb387a24c1",
   "metadata": {},
   "outputs": [
    {
     "data": {
      "text/plain": [
       "236.93428705205608"
      ]
     },
     "execution_count": 79,
     "metadata": {},
     "output_type": "execute_result"
    }
   ],
   "source": [
    "d1['stop_point'].distance(d1['min_point']) + d2['distance']"
   ]
  },
  {
   "cell_type": "code",
   "execution_count": null,
   "id": "b705e339-090f-449e-a059-8f058b40c6e1",
   "metadata": {},
   "outputs": [],
   "source": [
    "d = _data[10]\n",
    "d['stop_point'].distance(d['min_point'])"
   ]
  },
  {
   "cell_type": "code",
   "execution_count": null,
   "id": "c39537ad-1d22-487b-b15d-f4438ed98a30",
   "metadata": {},
   "outputs": [],
   "source": [
    "d"
   ]
  },
  {
   "cell_type": "code",
   "execution_count": null,
   "id": "5a07f63a-163a-4b35-842e-ad32bb66e34c",
   "metadata": {},
   "outputs": [],
   "source": [
    "points = [ Point(x, y) for x, y, _ in all_points ]"
   ]
  },
  {
   "cell_type": "code",
   "execution_count": null,
   "id": "a984ae61-f72b-47c0-8d56-8907e86144c2",
   "metadata": {},
   "outputs": [],
   "source": [
    "# type(all_points)\n",
    "v1 = list(b95_lines_v1['geometry'])[0]"
   ]
  },
  {
   "cell_type": "code",
   "execution_count": null,
   "id": "6e85cdab-8973-442a-959d-47f6d0da7066",
   "metadata": {},
   "outputs": [],
   "source": [
    "v1.project(d['min_point'])"
   ]
  },
  {
   "cell_type": "code",
   "execution_count": null,
   "id": "005ebb2a-7c75-4e14-9596-e96aefdffd92",
   "metadata": {},
   "outputs": [],
   "source": []
  },
  {
   "cell_type": "code",
   "execution_count": null,
   "id": "e2630eff-7ed2-49fd-b9d1-06e0a448ac5f",
   "metadata": {},
   "outputs": [],
   "source": [
    "for d in _data:\n",
    "    print(\"Stop: {}\\tMin. distance: {}\\tTotal Distance: {}\".format(d['stop'], d['stop_point'].distance(d['min_point']), v1.project(d['min_point'])))\n",
    "    # print(d['stop_point'].distance(d['min_point']))\n",
    "    "
   ]
  },
  {
   "cell_type": "code",
   "execution_count": null,
   "id": "c6396ad4-6c48-4b07-b91e-67e6359a21a1",
   "metadata": {},
   "outputs": [],
   "source": [
    "p1 = _data[0]['stop_point']\n",
    "p2 = _data[0]['min_point']"
   ]
  },
  {
   "cell_type": "code",
   "execution_count": null,
   "id": "7cea55a7-54fa-4862-80a7-a44d1c2d7b3c",
   "metadata": {},
   "outputs": [],
   "source": [
    "p1.equals(p1)"
   ]
  },
  {
   "cell_type": "code",
   "execution_count": null,
   "id": "68e45d49-ebef-48e9-954a-d7e9efe3feb6",
   "metadata": {},
   "outputs": [],
   "source": []
  },
  {
   "cell_type": "code",
   "execution_count": null,
   "id": "362ce496-67ac-457b-89e9-5cd6f41f6641",
   "metadata": {},
   "outputs": [],
   "source": []
  }
 ],
 "metadata": {
  "kernelspec": {
   "display_name": "Py Data Mining",
   "language": "python",
   "name": "data_mining"
  },
  "language_info": {
   "codemirror_mode": {
    "name": "ipython",
    "version": 3
   },
   "file_extension": ".py",
   "mimetype": "text/x-python",
   "name": "python",
   "nbconvert_exporter": "python",
   "pygments_lexer": "ipython3",
   "version": "3.8.12"
  }
 },
 "nbformat": 4,
 "nbformat_minor": 5
}
