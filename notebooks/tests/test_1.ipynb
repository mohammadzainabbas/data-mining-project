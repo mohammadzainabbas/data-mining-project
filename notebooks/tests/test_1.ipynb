{
 "cells": [
  {
   "cell_type": "code",
   "execution_count": null,
   "id": "a9fdaa10-0ce6-49b7-bf75-199f2aa87a2f",
   "metadata": {},
   "outputs": [],
   "source": [
    "from os import getcwd, listdir, makedirs\n",
    "from os.path import join, isfile, exists\n",
    "from json import load, dump\n",
    "import pandas as pd"
   ]
  },
  {
   "cell_type": "code",
   "execution_count": 2,
   "id": "8018b7f6-ff2d-4873-ad86-6aa636a8c944",
   "metadata": {},
   "outputs": [],
   "source": [
    "num = '08'\n",
    "vehicle_file = join(getcwd(), \"vehiclePosition{}.json\".format(num))"
   ]
  },
  {
   "cell_type": "code",
   "execution_count": 4,
   "id": "5df181e4-bc77-48c8-aa90-19d9261b32a6",
   "metadata": {},
   "outputs": [
    {
     "name": "stdout",
     "output_type": "stream",
     "text": [
      "dict_keys(['data'])\n"
     ]
    }
   ],
   "source": [
    "data = {}\n",
    "with open(vehicle_file) as f:\n",
    "    data = load( f )\n",
    "print(data.keys())"
   ]
  },
  {
   "cell_type": "code",
   "execution_count": null,
   "id": "50c12d33-67d2-426d-b029-593ae663ed27",
   "metadata": {},
   "outputs": [],
   "source": [
    "data"
   ]
  },
  {
   "cell_type": "code",
   "execution_count": null,
   "id": "3498846f-fa67-4f91-a1b8-8dda21924f32",
   "metadata": {},
   "outputs": [],
   "source": []
  }
 ],
 "metadata": {
  "kernelspec": {
   "display_name": "Py Data Mining",
   "language": "python",
   "name": "data_mining"
  },
  "language_info": {
   "codemirror_mode": {
    "name": "ipython",
    "version": 3
   },
   "file_extension": ".py",
   "mimetype": "text/x-python",
   "name": "python",
   "nbconvert_exporter": "python",
   "pygments_lexer": "ipython3",
   "version": "3.9.7"
  }
 },
 "nbformat": 4,
 "nbformat_minor": 5
}
