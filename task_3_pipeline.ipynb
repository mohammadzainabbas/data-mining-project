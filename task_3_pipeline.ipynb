{
 "cells": [
  {
   "cell_type": "code",
   "execution_count": 3,
   "outputs": [],
   "source": [
    "import json\n",
    "import numpy as np\n",
    "import pandas as pd\n",
    "import pickle\n",
    "from copy import deepcopy\n",
    "from datetime import timedelta\n",
    "from pprint import pprint\n",
    "from utils import extract_integer\n",
    "from os import getcwd, listdir\n",
    "from os.path import join, abspath, pardir\n",
    "from functools import reduce\n",
    "\n",
    "from pprint import pprint\n",
    "import shapefile\n",
    "import matplotlib.pyplot as plt\n",
    "\n",
    "import plotly.express as px\n",
    "import plotly.graph_objects as go\n",
    "\n",
    "from typing import List, Set, Dict, Tuple, Optional, Union"
   ],
   "metadata": {
    "collapsed": false,
    "pycharm": {
     "name": "#%%\n"
    }
   }
  },
  {
   "cell_type": "markdown",
   "source": [
    "## Utils Functions"
   ],
   "metadata": {
    "collapsed": false,
    "pycharm": {
     "name": "#%% md\n"
    }
   }
  },
  {
   "cell_type": "code",
   "execution_count": 4,
   "outputs": [],
   "source": [
    "def get_stop_dist_to_zero(line_str_code: str, varient: str, dist_dict: dict, stop_id_to_int):\n",
    "    \"\"\"\n",
    "    :param str line_str_code: Line (vehicle & route code) for which to extract this information.\n",
    "    :param str varient: One of the 2 directions on the line's route.\n",
    "    dist_dict[\"095b\"]['1']\n",
    "    Distance to zero means distance in meters from any stop to first stop (zero).\n",
    "    \"\"\"\n",
    "    prev_dist = 0\n",
    "\n",
    "    # Since first stop is the zero/ ref point (Base Case)\n",
    "    stop_dist_to_zero = {1: prev_dist}\n",
    "\n",
    "    for pointId, istop_id in stop_id_to_int.items():\n",
    "\n",
    "        # The stop 1 was catered for already.\n",
    "        istop_id_adjusted = istop_id + 1\n",
    "\n",
    "        stop_dist_to_zero[istop_id_adjusted] = prev_dist + dist_dict[line_str_code][varient][istop_id - 1]['distance']\n",
    "        prev_dist = stop_dist_to_zero[istop_id_adjusted]\n",
    "\n",
    "        # Not required till the last stop, plus, the code also breaks\n",
    "        if istop_id == len(stop_id_to_int) - 1:\n",
    "            break\n",
    "\n",
    "    #     print( stop_dist_to_zero )\n",
    "    return stop_dist_to_zero\n",
    "\n",
    "def get_ordered_stops(stops_file_path: str):\n",
    "    \"\"\"\n",
    "    :param str stops_file_path: path to shape file\n",
    "    :returns:\n",
    "        -ordered_dict_v1 (:py:class:`dict`) - Ordered stops of varient 1\n",
    "        -ordered_dict_v2 (:py:class:`dict`) - Ordered stops of varient 2\n",
    "    \"\"\"\n",
    "    stops_sf = shapefile.Reader(stops_file_path)\n",
    "\n",
    "    # Separate stops so that when you group by lineID (succession) only stops of single direction are returned\n",
    "    stops_v1 = [stop for stop in stops_sf.records() if stop.Variante == 1]\n",
    "    stops_v2 = [stop for stop in stops_sf.records() if stop.Variante == 2]\n",
    "\n",
    "    # Separate out stops related to a single line e.g. All stops of 95 in front of key '095b'\n",
    "    ordered_dict_v1 = {}  # \"095b\": [stop_obj, stop_obj, stop_obj]\n",
    "    for stop in stops_v1:\n",
    "        if stop.Code_Ligne not in ordered_dict_v1:\n",
    "            ordered_dict_v1[stop.Code_Ligne] = [s for s in stops_v1 if s.numero_lig == stop.numero_lig ]\n",
    "\n",
    "    ordered_dict_v2 = {}\n",
    "    for stop in stops_v2:\n",
    "        if stop.Code_Ligne not in ordered_dict_v2:\n",
    "            ordered_dict_v2[stop.Code_Ligne] = [s for s in stops_v2 if s.numero_lig == stop.numero_lig ]\n",
    "\n",
    "    # Sort the stops according to succession\n",
    "    for Code_Ligne in ordered_dict_v1.keys():\n",
    "        ordered_dict_v1[Code_Ligne].sort(key = lambda x: x.succession)\n",
    "\n",
    "    for Code_Ligne in ordered_dict_v2.keys():\n",
    "        ordered_dict_v2[Code_Ligne].sort(key = lambda x: x.succession)\n",
    "\n",
    "    return ordered_dict_v1, ordered_dict_v2"
   ],
   "metadata": {
    "collapsed": false,
    "pycharm": {
     "name": "#%%\n"
    }
   }
  },
  {
   "cell_type": "code",
   "execution_count": 1,
   "metadata": {
    "collapsed": true
   },
   "outputs": [
    {
     "name": "stdout",
     "output_type": "stream",
     "text": [
      "[100.07772216]\n"
     ]
    }
   ],
   "source": [
    "# AR example\n",
    "from statsmodels.tsa.ar_model import AutoReg\n",
    "from random import random\n",
    "# contrived dataset\n",
    "data = [x + random() for x in range(1, 100)]\n",
    "# fit model\n",
    "model = AutoReg(data, lags=1)\n",
    "model_fit = model.fit()\n",
    "# make prediction\n",
    "yhat = model_fit.predict(len(data), len(data))\n",
    "print(yhat)"
   ]
  },
  {
   "cell_type": "code",
   "execution_count": 5,
   "outputs": [],
   "source": [
    "parent_dir = abspath(join(getcwd(), pardir))\n",
    "shape_files_dir = join(parent_dir, \"data/2109_STIB_MIVB_Network_shapefiles\")\n",
    "line_shape_file = join(shape_files_dir, \"ACTU_LINES\")\n",
    "stops_shape_file = join(shape_files_dir, \"ACTU_STOPS\")\n",
    "dist_file = join(parent_dir, \"distances.json\")\n",
    "\n",
    "trajectories_dir = join(parent_dir, \"data_trajectories\")\n",
    "plot_dir = join(parent_dir, \"plots_plotly\")"
   ],
   "metadata": {
    "collapsed": false,
    "pycharm": {
     "name": "#%%\n"
    }
   }
  },
  {
   "cell_type": "markdown",
   "source": [
    "Setup"
   ],
   "metadata": {
    "collapsed": false,
    "pycharm": {
     "name": "#%% md\n"
    }
   }
  },
  {
   "cell_type": "code",
   "execution_count": 6,
   "outputs": [],
   "source": [
    "line_varient = 1\n",
    "line_str_code = '001m'\n",
    "direction_id = 8161\n",
    "\n",
    "ordered_stops_v1, ordered_stops_v2 = get_ordered_stops( stops_file_path=stops_shape_file )\n",
    "\n",
    "if line_varient == 1:\n",
    "    ordered_list_of_stops_in_lineId = [extract_integer(stop.stop_id) for stop in ordered_stops_v1[line_str_code]]\n",
    "else:\n",
    "    ordered_list_of_stops_in_lineId = [extract_integer(stop.stop_id) for stop in ordered_stops_v2[line_str_code]]\n",
    "lst = list(zip(ordered_list_of_stops_in_lineId, range(1, len(ordered_list_of_stops_in_lineId) + 1)))\n",
    "stop_id_to_int = {key: val for key, val in lst}\n",
    "# stop_dist_to_zero = get_stop_dist_to_zero(line_str_code, str(line_varient), dist_dict, stop_id_to_int)"
   ],
   "metadata": {
    "collapsed": false,
    "pycharm": {
     "name": "#%%\n"
    }
   }
  },
  {
   "cell_type": "code",
   "execution_count": 7,
   "outputs": [],
   "source": [
    "df_traj = pd.read_csv(f\"{join(trajectories_dir, line_str_code)}_{direction_id}_{line_varient}.csv\")\n",
    "df_traj = df_traj[ df_traj[\"bus_id\"] != '-' ]\n",
    "df_traj[\"bus_id\"] = df_traj[\"bus_id\"].astype(int)\n",
    "df_traj.loc[:, \"et\"] = df_traj.et.apply(lambda x: pd.to_datetime(x))"
   ],
   "metadata": {
    "collapsed": false,
    "pycharm": {
     "name": "#%%\n"
    }
   }
  },
  {
   "cell_type": "code",
   "execution_count": null,
   "outputs": [],
   "source": [],
   "metadata": {
    "collapsed": false,
    "pycharm": {
     "name": "#%%\n"
    }
   }
  }
 ],
 "metadata": {
  "kernelspec": {
   "display_name": "Python 3",
   "language": "python",
   "name": "python3"
  },
  "language_info": {
   "codemirror_mode": {
    "name": "ipython",
    "version": 2
   },
   "file_extension": ".py",
   "mimetype": "text/x-python",
   "name": "python",
   "nbconvert_exporter": "python",
   "pygments_lexer": "ipython2",
   "version": "2.7.6"
  }
 },
 "nbformat": 4,
 "nbformat_minor": 0
}